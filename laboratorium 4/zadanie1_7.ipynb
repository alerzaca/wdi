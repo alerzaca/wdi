{
 "cells": [
  {
   "cell_type": "markdown",
   "source": [
    "Na szachownicy o wymiarach 100 na 100 umieszczamy N skoczków (N < 100).\n",
    "Położenie skoczków jest opisywane przez tablicę:\n",
    "\n",
    "    Dane = [(w1, k1), (w2, k2), (w3, k3), ..., (wN, kN)]\n",
    "\n",
    "Proszę napisać funkcję, która zwróci położenie skoczków wzajemnie się szachujących.\n",
    "Do funkcji należy przekazać położenie skoczków.\n",
    "\n",
    "Należy zwizualizować rozkład skoczków szachownicy.\n",
    "\n",
    "Testy powinny uwzględniać między innymi:\n",
    "    Przypadek, w którym nie występuje szachowanie.\n",
    "    Przypadek, w którym szachują się dwa skoczki.\n",
    "    Przypadek, w którym szachują się więcej niż dwa skoczki."
   ],
   "metadata": {
    "collapsed": false
   }
  },
  {
   "cell_type": "code",
   "execution_count": 11,
   "outputs": [],
   "source": [
    "# wymiar szachownicy (W x W)\n",
    "W = 10"
   ],
   "metadata": {
    "collapsed": false
   }
  },
  {
   "cell_type": "code",
   "execution_count": 12,
   "outputs": [],
   "source": [
    "def place(list, board, N):\n",
    "    for i in range(N):\n",
    "        board[list[i][0]-1][list[i][1]-1] = 1"
   ],
   "metadata": {
    "collapsed": false
   }
  },
  {
   "cell_type": "code",
   "execution_count": 13,
   "outputs": [],
   "source": [
    "knight = '\\u265E' # knight unicode symbol\n",
    "null = '\\u2610' # empty square unicode symbol\n",
    "\n",
    "def print_board(board):\n",
    "    for i in range(W):\n",
    "        for j in range(W):\n",
    "            if board[i][j] == 0:\n",
    "                print(null, end=' ')\n",
    "            else:\n",
    "                print(knight, end=' ')\n",
    "        print('\\n')"
   ],
   "metadata": {
    "collapsed": false
   }
  },
  {
   "cell_type": "markdown",
   "source": [
    "Możliwe pozycje szachów gdy skoczek = (x, y):\n",
    "1. (x+1, y+2)\n",
    "2. (x+2, y+1)\n",
    "3. (x-1, y+2)\n",
    "4. (x-2, y+1)\n",
    "5. (x+1, y-2)\n",
    "6. (x+2, y-1)\n",
    "7. (x-1, y-2)\n",
    "8. (x-2, y-1)"
   ],
   "metadata": {
    "collapsed": false
   }
  },
  {
   "cell_type": "code",
   "execution_count": 14,
   "outputs": [],
   "source": [
    "def check(list, board, N):\n",
    "    checks = []\n",
    "    num = 0\n",
    "    for i in range(N):\n",
    "        x = list[i][0]\n",
    "        y = list[i][1]\n",
    "        if x+1 in range(1,W+1) and y+2 in range(1,W+1) and board[x][y+1] == 1:\n",
    "            num += 1\n",
    "            if ([[x,y],[x+1, y+2]] and [[x+1, y+2],[x,y]]) not in checks:\n",
    "                checks.append([[x,y],[x+1, y+2]])\n",
    "        if x+2 in range(1,W+1) and y+1 in range(1,W+1) and board[x+1][y] == 1:\n",
    "            num += 1\n",
    "            if ([[x,y],[x+2, y+1]] and [[x+2, y+1],[x,y]]) not in checks:\n",
    "                checks.append([[x,y],[x+2, y+1]])\n",
    "        if x-1 in range(1,W+1) and y+2 in range(1,W+1) and board[x-2][y+1] == 1:\n",
    "            num += 1\n",
    "            if ([[x,y],[x-1, y+2]] and [[x-1, y+2],[x,y]]) not in checks:\n",
    "                checks.append([[x,y],[x-1, y+2]])\n",
    "        if x-2 in range(1,W+1) and y+1 in range(1,W+1) and board[x-3][y] == 1:\n",
    "            num += 1\n",
    "            if ([[x,y],[x-2, y+1]] and [[x-2, y+1],[x,y]]) not in checks:\n",
    "                checks.append([[x,y],[x-2, y+1]])\n",
    "        if x+1 in range(1,W+1) and y-2 in range(1,W+1) and board[x][y-3] == 1:\n",
    "            num += 1\n",
    "            if ([[x,y],[x+1, y-2]] and [[x+1, y-2],[x,y]]) not in checks:\n",
    "                checks.append([[x,y],[x+1, y-2]])\n",
    "        if x+2 in range(1,W+1) and y-1 in range(1,W+1) and board[x+1][y-2] == 1:\n",
    "            num += 1\n",
    "            if ([[x,y],[x+2, y-1]] and [[x+2, y-1],[x,y]]) not in checks:\n",
    "                checks.append([[x,y],[x+2, y-1]])\n",
    "        if x-1 in range(1,W+1) and y-2 in range(1,W+1) and board[x-2][y-3] == 1:\n",
    "            num += 1\n",
    "            if ([[x,y],[x-1, y-2]] and [[x-1, y-2],[x,y]]) not in checks:\n",
    "                checks.append([[x,y],[x-1, y-2]])\n",
    "        if x-2 in range(1,W+1) and y-1 in range(1,W+1) and board[x-3][y-2] == 1:\n",
    "            num += 1\n",
    "            if ([[x,y],[x-2, y-1]] and [[x-2, y-1],[x,y]]) not in checks:\n",
    "                checks.append([[x,y],[x-2, y-1]])\n",
    "\n",
    "    if num == 0:\n",
    "        return 'Żadne skoczki się nie szachują'\n",
    "    else:\n",
    "        return checks"
   ],
   "metadata": {
    "collapsed": false
   }
  },
  {
   "cell_type": "code",
   "execution_count": 20,
   "outputs": [
    {
     "name": "stdout",
     "output_type": "stream",
     "text": [
      "Podaj położenia skoczków:\n",
      "\n",
      "♞ ☐ ☐ ☐ ☐ ☐ ☐ ☐ ☐ ☐ \n",
      "\n",
      "☐ ☐ ♞ ☐ ☐ ☐ ☐ ☐ ☐ ☐ \n",
      "\n",
      "☐ ♞ ☐ ☐ ☐ ☐ ☐ ☐ ☐ ☐ \n",
      "\n",
      "☐ ☐ ☐ ☐ ☐ ☐ ☐ ☐ ☐ ☐ \n",
      "\n",
      "☐ ☐ ☐ ☐ ☐ ☐ ☐ ☐ ☐ ☐ \n",
      "\n",
      "☐ ☐ ☐ ☐ ☐ ☐ ☐ ☐ ☐ ☐ \n",
      "\n",
      "☐ ☐ ☐ ☐ ☐ ☐ ☐ ☐ ☐ ☐ \n",
      "\n",
      "☐ ☐ ☐ ☐ ☐ ☐ ☐ ☐ ☐ ☐ \n",
      "\n",
      "☐ ☐ ☐ ☐ ☐ ☐ ☐ ☐ ☐ ☐ \n",
      "\n",
      "☐ ☐ ☐ ☐ ☐ ☐ ☐ ☐ ☐ ☐ \n",
      "\n"
     ]
    },
    {
     "data": {
      "text/plain": "[[[1, 1], [2, 3]], [[1, 1], [3, 2]]]"
     },
     "execution_count": 20,
     "metadata": {},
     "output_type": "execute_result"
    }
   ],
   "source": [
    "board = [[0 for i in range(W)] for i in range(W)]\n",
    "\n",
    "N = int(input(\"Podaj liczbę skoczków (mniej niż 100): \"))\n",
    "knights = []\n",
    "print(\"Podaj położenia skoczków:\\n\")\n",
    "for i in range(N):\n",
    "    element = [int(input()), int(input())]\n",
    "    knights.append(element)\n",
    "\n",
    "place(knights, board, N)\n",
    "print_board(board)\n",
    "check(knights, board, N)"
   ],
   "metadata": {
    "collapsed": false
   }
  }
 ],
 "metadata": {
  "kernelspec": {
   "display_name": "Python 3",
   "language": "python",
   "name": "python3"
  },
  "language_info": {
   "codemirror_mode": {
    "name": "ipython",
    "version": 2
   },
   "file_extension": ".py",
   "mimetype": "text/x-python",
   "name": "python",
   "nbconvert_exporter": "python",
   "pygments_lexer": "ipython2",
   "version": "2.7.6"
  }
 },
 "nbformat": 4,
 "nbformat_minor": 0
}
