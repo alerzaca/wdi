{
 "cells": [
  {
   "cell_type": "markdown",
   "source": [
    "Wyznacz rekurencyjnie wyznacznik dowolnie dużej macierzy."
   ],
   "metadata": {
    "collapsed": false
   }
  },
  {
   "cell_type": "code",
   "execution_count": 5,
   "outputs": [],
   "source": [
    " # pomocnicza podmacierz\n",
    "\n",
    " def subm(mx, c):\n",
    "    buff = [[1] * len(mx) for i in range(len(mx))]\n",
    "    for i in range(len(mx)):\n",
    "        for j in range(len(mx)):\n",
    "            buff[i][j] = mx[i][j]\n",
    "    buff.pop(0)\n",
    "    for i in range(len(buff)):\n",
    "        buff[i].pop(c)\n",
    "    return buff"
   ],
   "metadata": {
    "collapsed": false
   }
  },
  {
   "cell_type": "code",
   "execution_count": 6,
   "outputs": [],
   "source": [
    "# obliczanie wyznacznika\n",
    "\n",
    "def det(mx):\n",
    "    x = 0\n",
    "    if len(mx) <= 2:\n",
    "        return mx[0][0] * mx[1][1] - mx[0][1] * mx[1][0]\n",
    "    else:\n",
    "        for i in range(len(mx)):\n",
    "            x += ((-1) ** i) * mx[0][i] * det(subm(mx, i))\n",
    "    return x.round(3)"
   ],
   "metadata": {
    "collapsed": false
   }
  },
  {
   "cell_type": "code",
   "execution_count": 7,
   "outputs": [
    {
     "name": "stdout",
     "output_type": "stream",
     "text": [
      "[[5.49 7.15 6.03 5.45 4.24]\n",
      " [6.46 4.38 8.92 9.64 3.83]\n",
      " [7.92 5.29 5.68 9.26 0.71]\n",
      " [0.87 0.2  8.33 7.78 8.7 ]\n",
      " [9.79 7.99 4.61 7.81 1.18]]\n"
     ]
    },
    {
     "data": {
      "text/plain": "964.39"
     },
     "execution_count": 7,
     "metadata": {},
     "output_type": "execute_result"
    }
   ],
   "source": [
    "import numpy as np\n",
    "N = int(input(\"Podaj rozmiar macierzy: \"))\n",
    "\n",
    "np.random.seed(0)\n",
    "matrix = np.random.uniform(low=0.0, high=10.0, size=(N,N)).round(2)\n",
    "print(matrix)\n",
    "\n",
    "det(matrix)"
   ],
   "metadata": {
    "collapsed": false
   }
  }
 ],
 "metadata": {
  "kernelspec": {
   "display_name": "Python 3",
   "language": "python",
   "name": "python3"
  },
  "language_info": {
   "codemirror_mode": {
    "name": "ipython",
    "version": 2
   },
   "file_extension": ".py",
   "mimetype": "text/x-python",
   "name": "python",
   "nbconvert_exporter": "python",
   "pygments_lexer": "ipython2",
   "version": "2.7.6"
  }
 },
 "nbformat": 4,
 "nbformat_minor": 0
}
